{
 "cells": [
  {
   "cell_type": "markdown",
   "metadata": {},
   "source": [
    "# Navigation system"
   ]
  },
  {
   "cell_type": "markdown",
   "metadata": {},
   "source": [
    "We are going on a long trip, and our car is ready to get going.\n",
    "\n",
    "Is not hard to drive it, but you will not use a steer.\n",
    "We are going to drive it with Python"
   ]
  },
  {
   "cell_type": "markdown",
   "metadata": {},
   "source": [
    "## How does this thing start?\n",
    "\n",
    "We are inside a car that responds to **functions** written in Python.\n",
    "\n",
    "Our goal is to make it through a set of streets until we finish in the desired destination.\n",
    "\n",
    "For this we will create a series of functions, which will allow us to move forward or to the sides.\n",
    "\n",
    "Let's start with something simple: going straight"
   ]
  },
  {
   "attachments": {},
   "cell_type": "markdown",
   "metadata": {},
   "source": [
    "Exercise 1: go straight\n",
    "---------------------\n",
    "\n",
    "Write a function in Python that receives your current position as a list (`origin`) with two coordinates, and a second list (`destination`) with two coordinates, returning how many places we have to move\n",
    "\n",
    "Only one of this coordinates will change from origin to destination, so your message has to be adapted depending which direction (north, south, east, west) you are going:\n",
    "\n",
    "\n",
    "Here are some examples of inputs:\n",
    "\n",
    "<table style=\"border:1px solid #AAA; margin:0;\">\n",
    "    <tr>\n",
    "        <td >\n",
    "            <img src=\"11to16.png\" alt=\"Drawing\" style=\"width: 80px\"/>\n",
    "        </td>\n",
    "        <td style=\"margin:0; text-align:left;\">\n",
    "            origin = `[1, 1]`<br/>\n",
    "            destination = `[1, 6]`<br/>\n",
    "        </td>\n",
    "    </tr>\n",
    "    <tr >\n",
    "        <td colspan=\"2\">\n",
    "            Your function should return: `'Moving north 5 spaces'`\n",
    "        </td>\n",
    "    </tr>\n",
    "</table>\n",
    "<br/>\n",
    "\n",
    "<table style=\"border:1px solid #AAA; margin:0;\">\n",
    "    <tr>\n",
    "        <td >\n",
    "            <img src=\"1010to0510.png\" alt=\"Drawing\" style=\"height: 60px\"/>\n",
    "        </td>\n",
    "        <td style=\"margin:0; text-align:left;\">\n",
    "            origin = `[10, 5]`<br/>\n",
    "            destination = `[5, 5]`<br/>\n",
    "        </td>\n",
    "    </tr>\n",
    "    <tr >\n",
    "        <td colspan=\"2\">\n",
    "            Your function should return: `'Moving west 5 spaces'`\n",
    "        </td>\n",
    "    </tr>\n",
    "</table>\n",
    "\n",
    "\n",
    "You have to do functions to move east, west, south and north\n",
    "\n",
    "Go on!"
   ]
  },
  {
   "cell_type": "code",
   "execution_count": null,
   "metadata": {},
   "outputs": [],
   "source": [
    "def move_the_car(origin, destination):\n",
    "    # place the code here\n",
    "    # remember that origin is a list like [1, 2] and destination is also a list\n",
    "    print('We are moving')\n",
    "\n",
    "move_the_car([1, 1], [1, 2])"
   ]
  },
  {
   "cell_type": "markdown",
   "metadata": {},
   "source": [
    "After this, you can check if you have the expected output for the following functions"
   ]
  },
  {
   "cell_type": "code",
   "execution_count": null,
   "metadata": {},
   "outputs": [],
   "source": [
    "move_the_car([1, 1], [1, 6])\n",
    "# should output 'Moving north 5 spaces'\n",
    "\n",
    "move_the_car([10, 10], [5, 10])\n",
    "# should output 'Moving west 5 spaces'\n",
    "\n",
    "move_the_car([1, 1], [2, 1])\n",
    "# should output 'Moving east 1 spaces'\n",
    "\n",
    "move_the_car([0, 0], [0, -7])\n",
    "# should output 'Moving south 7 spaces'\n",
    "\n",
    "move_the_car([4, 4], [9, 9])\n",
    "# should output 'Can not move the car in diagonal!'"
   ]
  },
  {
   "cell_type": "markdown",
   "metadata": {},
   "source": [
    "Exercise 2: Turning around\n",
    "--------------------------\n",
    "\n",
    "Moving forward was easy, now it's time to spice it up adding some **turns**.\n",
    "\n",
    "Now we will need a function that receives a list of positions, and returns the path that the car has to take, indicating the moves in the middle. Anytime you have to move the car in a different direction, we need to give indications on which direction we are going.\n",
    "\n",
    "As usual, is simpler with some examples\n",
    "\n",
    "If the list is `[[1, 1], [1, 3], [5, 3]]` then the output will be the following:\n",
    "\n",
    "`Moving north 3 spaces `<br/> \n",
    "`Turning right `<br/> \n",
    "`Moving east 4 spaces `<br/> \n",
    "\n",
    "For the more complex: `[[10, 10], [10, 3], [10, 4], [7, 4]]` the output will be:\n",
    "\n",
    "`Moving south 7 spaces`<br/> \n",
    "`Turning back!`<br/> \n",
    "`Moving north 1 space`<br/> \n",
    "`Turning left`<br/> \n",
    "`Moving east 3 spaces`<br/> \n",
    "\n",
    "It will be **very interesting** if you reuse the function move_the_car"
   ]
  },
  {
   "cell_type": "code",
   "execution_count": 21,
   "metadata": {},
   "outputs": [
    {
     "name": "stdout",
     "output_type": "stream",
     "text": [
      "We are moving\n"
     ]
    }
   ],
   "source": [
    "def turning_around(coordinates):\n",
    "    # place the code here\n",
    "    # remember that coordinates is a list of lists like [[1, 1], [1, 3], [5, 3]]\n",
    "    print('Turning around')\n",
    "\n",
    "move_the_car([1, 1], [1, 2])"
   ]
  },
  {
   "cell_type": "markdown",
   "metadata": {},
   "source": [
    "Now you can check it with the outputs above"
   ]
  },
  {
   "cell_type": "code",
   "execution_count": null,
   "metadata": {},
   "outputs": [],
   "source": [
    "turning_around([[1, 1], [1, 3], [5, 3]])\n",
    "\n",
    "turning_around([[10, 10], [10, 3], [10, 4], [7, 4]])\n",
    "\n",
    "turning_around([[10, 10], [3, 10], [3, 7], [3, 3]])\n",
    "# What will this last one output?"
   ]
  },
  {
   "attachments": {},
   "cell_type": "markdown",
   "metadata": {},
   "source": [
    "Exercise 3: Obstacles!\n",
    "----------------------\n",
    "\n",
    "<img src=\"obstacle.jpg\" alt=\"Drawing\" style=\"width: 180px; margin:0\"/>\n",
    "\n",
    "Nobody said driving was free of obstacles!\n",
    "\n",
    "A few places here and there contain obstacles, and they will be defined below\n",
    "\n",
    "If our path is crossing one of them, we should output that we are dealing with it\n",
    "\n",
    "For example, if there is an obstacle like this<br/>\n",
    "`bridge = [5, 6]`\n",
    "\n",
    "And we are passing through it while turning around:\n",
    "`turning_around([[5, 5], [5, 10]])`\n",
    "\n",
    "Then we should output accordingly\n",
    "`Moving west 5 spaces`\n",
    "`Passed a bridge on the way`\n",
    "\n",
    "Now we will define some obstacles"
   ]
  },
  {
   "cell_type": "code",
   "execution_count": null,
   "metadata": {},
   "outputs": [],
   "source": [
    "truck = [3, 3]\n",
    "bridge = [5, 6]\n",
    "hole = [10, 9]\n",
    "traffic_light = [4, 3]"
   ]
  },
  {
   "cell_type": "markdown",
   "metadata": {},
   "source": [
    "And you can run the function to see the new outputs"
   ]
  },
  {
   "cell_type": "code",
   "execution_count": 22,
   "metadata": {},
   "outputs": [
    {
     "name": "stdout",
     "output_type": "stream",
     "text": [
      "Turning around\n",
      "Turning around\n",
      "Turning around\n"
     ]
    }
   ],
   "source": [
    "turning_around([[1, 1], [1, 3], [5, 3]])\n",
    "\n",
    "turning_around([[10, 10], [10, 6], [4, 6]])\n",
    "\n",
    "turning_around([[3, 2], [3, 6]])"
   ]
  },
  {
   "cell_type": "markdown",
   "metadata": {},
   "source": [
    "Exercise 4: Look who's driving too\n",
    "--------------------------------\n",
    "\n",
    "So your best friend decided to start navigating too, and you both will follow different paths\n",
    "\n",
    "Will be interesting to know if you cross at some point on the road, you may be able to wave goodbye :)\n",
    "\n",
    "So now you will have to create a function that will output the path of both of you, and if some moment you will cross the same coordinate, then function should output this remarkable action\n",
    "\n",
    "For example if you have this paths:\n",
    "\n",
    "`my_path = [[1, 1], [1, 5], [10, 5]]`<br/>\n",
    "`my_best_friend_path = [[0, 3], [6, 3]]`\n",
    "\n",
    "You will both pass by the coordinate `[1, 3]` at some point, the function will output\n",
    "`Both passing by [1,3]`\n",
    "\n",
    "Now it will be interesting as well if this function uses the previous function `turning_around` to show the whole paths of you both first!"
   ]
  },
  {
   "cell_type": "code",
   "execution_count": null,
   "metadata": {},
   "outputs": [],
   "source": [
    "def siamese_driving(my_path, my_best_friend_path):\n",
    "    # your code goes here\n",
    "    print('does it blend?')\n",
    "\n",
    "siamese_driving([[1, 1], [1, 5], [10, 5]], [[0, 3], [6, 3]])"
   ]
  },
  {
   "cell_type": "markdown",
   "metadata": {},
   "source": [
    "You can try it now for the following outputs\n",
    "\n",
    "*Note: your paths can intersect more than one time, you have to deal with this!*"
   ]
  },
  {
   "cell_type": "code",
   "execution_count": null,
   "metadata": {},
   "outputs": [],
   "source": [
    "siamese_driving([[1, 1], [1, 5], [10, 5]], [[0, 0] [10, 0], [10, 7], [8, 7]])\n",
    "\n",
    "siamese_driving([[9, 6], [9, 1]], [[8, 6], [10, 6]])\n",
    "\n",
    "siamese_driving([[0, 0], [4, 0], [4, 5]], [[0, 0], [3, 0], [3, -6]])"
   ]
  }
 ],
 "metadata": {
  "kernelspec": {
   "display_name": "Python 3",
   "language": "python",
   "name": "python3"
  },
  "language_info": {
   "codemirror_mode": {
    "name": "ipython",
    "version": 3
   },
   "file_extension": ".py",
   "mimetype": "text/x-python",
   "name": "python",
   "nbconvert_exporter": "python",
   "pygments_lexer": "ipython3",
   "version": "3.6.2"
  }
 },
 "nbformat": 4,
 "nbformat_minor": 2
}
